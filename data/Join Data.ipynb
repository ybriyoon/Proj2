{
 "cells": [
  {
   "cell_type": "code",
   "execution_count": 1,
   "metadata": {},
   "outputs": [],
   "source": [
    "#Import dependencies\n",
    "import pandas as pd\n",
    "import csv"
   ]
  },
  {
   "cell_type": "code",
   "execution_count": 2,
   "metadata": {},
   "outputs": [
    {
     "name": "stdout",
     "output_type": "stream",
     "text": [
      "(100, 6)\n"
     ]
    }
   ],
   "source": [
    "# Getting data: 100 Women of 2020 \n",
    "# source: https://github.com/rfordatascience/tidytuesday/blob/master/data/2020/2020-12-08/readme.md\n",
    "file_path = \"https://raw.githubusercontent.com/rfordatascience/tidytuesday/master/data/2020/2020-12-08/women.csv\"\n",
    "women2020 = pd.read_csv(file_path)\n",
    "print(women2020.shape)"
   ]
  },
  {
   "cell_type": "code",
   "execution_count": 3,
   "metadata": {},
   "outputs": [
    {
     "data": {
      "text/html": [
       "<div>\n",
       "<style scoped>\n",
       "    .dataframe tbody tr th:only-of-type {\n",
       "        vertical-align: middle;\n",
       "    }\n",
       "\n",
       "    .dataframe tbody tr th {\n",
       "        vertical-align: top;\n",
       "    }\n",
       "\n",
       "    .dataframe thead th {\n",
       "        text-align: right;\n",
       "    }\n",
       "</style>\n",
       "<table border=\"1\" class=\"dataframe\">\n",
       "  <thead>\n",
       "    <tr style=\"text-align: right;\">\n",
       "      <th></th>\n",
       "      <th>name</th>\n",
       "      <th>img</th>\n",
       "      <th>category</th>\n",
       "      <th>country</th>\n",
       "      <th>role</th>\n",
       "      <th>description</th>\n",
       "    </tr>\n",
       "  </thead>\n",
       "  <tbody>\n",
       "    <tr>\n",
       "      <th>0</th>\n",
       "      <td>Unsung hero</td>\n",
       "      <td>https://ichef.bbci.co.uk/news/300/cpsprodpb/F2...</td>\n",
       "      <td>All</td>\n",
       "      <td>Worldwide</td>\n",
       "      <td>Making a difference</td>\n",
       "      <td>In an extraordinary year, when countless women...</td>\n",
       "    </tr>\n",
       "    <tr>\n",
       "      <th>1</th>\n",
       "      <td>Loza Abera Geinore</td>\n",
       "      <td>https://ichef.bbci.co.uk/news/300/cpsprodpb/15...</td>\n",
       "      <td>Leadership</td>\n",
       "      <td>Ethiopia</td>\n",
       "      <td>Footballer</td>\n",
       "      <td>Loza Abera Geinore was born and raised in a sm...</td>\n",
       "    </tr>\n",
       "    <tr>\n",
       "      <th>2</th>\n",
       "      <td>Houda Abouz</td>\n",
       "      <td>https://ichef.bbci.co.uk/news/300/cpsprodpb/14...</td>\n",
       "      <td>Creativity</td>\n",
       "      <td>Morocco</td>\n",
       "      <td>Rapper</td>\n",
       "      <td>Houda Abouz, aka Khtek, is a Moroccan rapper k...</td>\n",
       "    </tr>\n",
       "    <tr>\n",
       "      <th>3</th>\n",
       "      <td>Christina Adane</td>\n",
       "      <td>https://ichef.bbci.co.uk/news/300/cpsprodpb/4A...</td>\n",
       "      <td>Leadership</td>\n",
       "      <td>Netherlands</td>\n",
       "      <td>Campaigner</td>\n",
       "      <td>Christina was behind the UK petition for free ...</td>\n",
       "    </tr>\n",
       "    <tr>\n",
       "      <th>4</th>\n",
       "      <td>Yvonne Aki-Sawyerr</td>\n",
       "      <td>https://ichef.bbci.co.uk/news/300/cpsprodpb/13...</td>\n",
       "      <td>Leadership</td>\n",
       "      <td>Sierra Leone</td>\n",
       "      <td>Mayor</td>\n",
       "      <td>Mayor Yvonne Aki-Sawyerr OBE is best known for...</td>\n",
       "    </tr>\n",
       "  </tbody>\n",
       "</table>\n",
       "</div>"
      ],
      "text/plain": [
       "                 name                                                img  \\\n",
       "0         Unsung hero  https://ichef.bbci.co.uk/news/300/cpsprodpb/F2...   \n",
       "1  Loza Abera Geinore  https://ichef.bbci.co.uk/news/300/cpsprodpb/15...   \n",
       "2         Houda Abouz  https://ichef.bbci.co.uk/news/300/cpsprodpb/14...   \n",
       "3     Christina Adane  https://ichef.bbci.co.uk/news/300/cpsprodpb/4A...   \n",
       "4  Yvonne Aki-Sawyerr  https://ichef.bbci.co.uk/news/300/cpsprodpb/13...   \n",
       "\n",
       "     category       country                 role  \\\n",
       "0         All     Worldwide  Making a difference   \n",
       "1  Leadership      Ethiopia           Footballer   \n",
       "2  Creativity       Morocco               Rapper   \n",
       "3  Leadership   Netherlands           Campaigner   \n",
       "4  Leadership  Sierra Leone                Mayor   \n",
       "\n",
       "                                         description  \n",
       "0  In an extraordinary year, when countless women...  \n",
       "1  Loza Abera Geinore was born and raised in a sm...  \n",
       "2  Houda Abouz, aka Khtek, is a Moroccan rapper k...  \n",
       "3  Christina was behind the UK petition for free ...  \n",
       "4  Mayor Yvonne Aki-Sawyerr OBE is best known for...  "
      ]
     },
     "execution_count": 3,
     "metadata": {},
     "output_type": "execute_result"
    }
   ],
   "source": [
    "# Showing data \n",
    "women2020.head()"
   ]
  },
  {
   "cell_type": "code",
   "execution_count": 4,
   "metadata": {},
   "outputs": [],
   "source": [
    "women2020.country[50] = 'UK'\n",
    "women2020.country[72] = \"India\""
   ]
  },
  {
   "cell_type": "code",
   "execution_count": 5,
   "metadata": {},
   "outputs": [],
   "source": [
    "# Saving data as csv file \n",
    "women2020.to_csv('women2020.csv',index = False)"
   ]
  },
  {
   "cell_type": "code",
   "execution_count": 6,
   "metadata": {},
   "outputs": [],
   "source": [
    "# Merging latitudes and longitudes \n",
    "# File definition\n",
    "lat_long_file = 'lat_lon.csv'"
   ]
  },
  {
   "cell_type": "code",
   "execution_count": 7,
   "metadata": {},
   "outputs": [
    {
     "data": {
      "text/html": [
       "<div>\n",
       "<style scoped>\n",
       "    .dataframe tbody tr th:only-of-type {\n",
       "        vertical-align: middle;\n",
       "    }\n",
       "\n",
       "    .dataframe tbody tr th {\n",
       "        vertical-align: top;\n",
       "    }\n",
       "\n",
       "    .dataframe thead th {\n",
       "        text-align: right;\n",
       "    }\n",
       "</style>\n",
       "<table border=\"1\" class=\"dataframe\">\n",
       "  <thead>\n",
       "    <tr style=\"text-align: right;\">\n",
       "      <th></th>\n",
       "      <th>country</th>\n",
       "      <th>Latitude</th>\n",
       "      <th>Longitude</th>\n",
       "    </tr>\n",
       "  </thead>\n",
       "  <tbody>\n",
       "    <tr>\n",
       "      <th>0</th>\n",
       "      <td>Worldwide</td>\n",
       "      <td>40.042140</td>\n",
       "      <td>-76.388809</td>\n",
       "    </tr>\n",
       "    <tr>\n",
       "      <th>1</th>\n",
       "      <td>Ethiopia</td>\n",
       "      <td>9.145000</td>\n",
       "      <td>40.489673</td>\n",
       "    </tr>\n",
       "    <tr>\n",
       "      <th>2</th>\n",
       "      <td>Morocco</td>\n",
       "      <td>31.791702</td>\n",
       "      <td>-7.092620</td>\n",
       "    </tr>\n",
       "    <tr>\n",
       "      <th>3</th>\n",
       "      <td>Netherlands</td>\n",
       "      <td>52.132633</td>\n",
       "      <td>5.291266</td>\n",
       "    </tr>\n",
       "    <tr>\n",
       "      <th>4</th>\n",
       "      <td>Sierra Leone</td>\n",
       "      <td>8.460555</td>\n",
       "      <td>-11.779889</td>\n",
       "    </tr>\n",
       "  </tbody>\n",
       "</table>\n",
       "</div>"
      ],
      "text/plain": [
       "        country   Latitude  Longitude\n",
       "0     Worldwide  40.042140 -76.388809\n",
       "1      Ethiopia   9.145000  40.489673\n",
       "2       Morocco  31.791702  -7.092620\n",
       "3   Netherlands  52.132633   5.291266\n",
       "4  Sierra Leone   8.460555 -11.779889"
      ]
     },
     "execution_count": 7,
     "metadata": {},
     "output_type": "execute_result"
    }
   ],
   "source": [
    "# Reading CSV latitudes and longitudes\n",
    "lat_long = pd.read_csv(lat_long_file)\n",
    "lat_long.head()"
   ]
  },
  {
   "cell_type": "code",
   "execution_count": 8,
   "metadata": {},
   "outputs": [
    {
     "name": "stdout",
     "output_type": "stream",
     "text": [
      "(100, 8)\n"
     ]
    }
   ],
   "source": [
    "# Join DataFrames in the country column \n",
    "Final_data = pd.merge(women2020, lat_long, on='country', how='left')\n",
    "Final_data = Final_data.drop_duplicates(subset=['name'])\n",
    "print(Final_data.shape)"
   ]
  },
  {
   "cell_type": "code",
   "execution_count": 9,
   "metadata": {},
   "outputs": [
    {
     "data": {
      "text/html": [
       "<div>\n",
       "<style scoped>\n",
       "    .dataframe tbody tr th:only-of-type {\n",
       "        vertical-align: middle;\n",
       "    }\n",
       "\n",
       "    .dataframe tbody tr th {\n",
       "        vertical-align: top;\n",
       "    }\n",
       "\n",
       "    .dataframe thead th {\n",
       "        text-align: right;\n",
       "    }\n",
       "</style>\n",
       "<table border=\"1\" class=\"dataframe\">\n",
       "  <thead>\n",
       "    <tr style=\"text-align: right;\">\n",
       "      <th></th>\n",
       "      <th>name</th>\n",
       "      <th>img</th>\n",
       "      <th>category</th>\n",
       "      <th>country</th>\n",
       "      <th>role</th>\n",
       "      <th>description</th>\n",
       "      <th>Latitude</th>\n",
       "      <th>Longitude</th>\n",
       "    </tr>\n",
       "  </thead>\n",
       "  <tbody>\n",
       "    <tr>\n",
       "      <th>0</th>\n",
       "      <td>Unsung hero</td>\n",
       "      <td>https://ichef.bbci.co.uk/news/300/cpsprodpb/F2...</td>\n",
       "      <td>All</td>\n",
       "      <td>Worldwide</td>\n",
       "      <td>Making a difference</td>\n",
       "      <td>In an extraordinary year, when countless women...</td>\n",
       "      <td>40.042140</td>\n",
       "      <td>-76.388809</td>\n",
       "    </tr>\n",
       "    <tr>\n",
       "      <th>1</th>\n",
       "      <td>Loza Abera Geinore</td>\n",
       "      <td>https://ichef.bbci.co.uk/news/300/cpsprodpb/15...</td>\n",
       "      <td>Leadership</td>\n",
       "      <td>Ethiopia</td>\n",
       "      <td>Footballer</td>\n",
       "      <td>Loza Abera Geinore was born and raised in a sm...</td>\n",
       "      <td>9.145000</td>\n",
       "      <td>40.489673</td>\n",
       "    </tr>\n",
       "    <tr>\n",
       "      <th>2</th>\n",
       "      <td>Houda Abouz</td>\n",
       "      <td>https://ichef.bbci.co.uk/news/300/cpsprodpb/14...</td>\n",
       "      <td>Creativity</td>\n",
       "      <td>Morocco</td>\n",
       "      <td>Rapper</td>\n",
       "      <td>Houda Abouz, aka Khtek, is a Moroccan rapper k...</td>\n",
       "      <td>31.791702</td>\n",
       "      <td>-7.092620</td>\n",
       "    </tr>\n",
       "    <tr>\n",
       "      <th>3</th>\n",
       "      <td>Christina Adane</td>\n",
       "      <td>https://ichef.bbci.co.uk/news/300/cpsprodpb/4A...</td>\n",
       "      <td>Leadership</td>\n",
       "      <td>Netherlands</td>\n",
       "      <td>Campaigner</td>\n",
       "      <td>Christina was behind the UK petition for free ...</td>\n",
       "      <td>52.132633</td>\n",
       "      <td>5.291266</td>\n",
       "    </tr>\n",
       "    <tr>\n",
       "      <th>4</th>\n",
       "      <td>Yvonne Aki-Sawyerr</td>\n",
       "      <td>https://ichef.bbci.co.uk/news/300/cpsprodpb/13...</td>\n",
       "      <td>Leadership</td>\n",
       "      <td>Sierra Leone</td>\n",
       "      <td>Mayor</td>\n",
       "      <td>Mayor Yvonne Aki-Sawyerr OBE is best known for...</td>\n",
       "      <td>8.460555</td>\n",
       "      <td>-11.779889</td>\n",
       "    </tr>\n",
       "  </tbody>\n",
       "</table>\n",
       "</div>"
      ],
      "text/plain": [
       "                 name                                                img  \\\n",
       "0         Unsung hero  https://ichef.bbci.co.uk/news/300/cpsprodpb/F2...   \n",
       "1  Loza Abera Geinore  https://ichef.bbci.co.uk/news/300/cpsprodpb/15...   \n",
       "2         Houda Abouz  https://ichef.bbci.co.uk/news/300/cpsprodpb/14...   \n",
       "3     Christina Adane  https://ichef.bbci.co.uk/news/300/cpsprodpb/4A...   \n",
       "4  Yvonne Aki-Sawyerr  https://ichef.bbci.co.uk/news/300/cpsprodpb/13...   \n",
       "\n",
       "     category       country                 role  \\\n",
       "0         All     Worldwide  Making a difference   \n",
       "1  Leadership      Ethiopia           Footballer   \n",
       "2  Creativity       Morocco               Rapper   \n",
       "3  Leadership   Netherlands           Campaigner   \n",
       "4  Leadership  Sierra Leone                Mayor   \n",
       "\n",
       "                                         description   Latitude  Longitude  \n",
       "0  In an extraordinary year, when countless women...  40.042140 -76.388809  \n",
       "1  Loza Abera Geinore was born and raised in a sm...   9.145000  40.489673  \n",
       "2  Houda Abouz, aka Khtek, is a Moroccan rapper k...  31.791702  -7.092620  \n",
       "3  Christina was behind the UK petition for free ...  52.132633   5.291266  \n",
       "4  Mayor Yvonne Aki-Sawyerr OBE is best known for...   8.460555 -11.779889  "
      ]
     },
     "execution_count": 9,
     "metadata": {},
     "output_type": "execute_result"
    }
   ],
   "source": [
    "Final_data.head()"
   ]
  },
  {
   "cell_type": "code",
   "execution_count": 10,
   "metadata": {},
   "outputs": [],
   "source": [
    "Final_data.to_csv('complete_data.csv',index = False)"
   ]
  }
 ],
 "metadata": {
  "kernelspec": {
   "display_name": "Python 3",
   "language": "python",
   "name": "python3"
  },
  "language_info": {
   "codemirror_mode": {
    "name": "ipython",
    "version": 3
   },
   "file_extension": ".py",
   "mimetype": "text/x-python",
   "name": "python",
   "nbconvert_exporter": "python",
   "pygments_lexer": "ipython3",
   "version": "3.8.3"
  }
 },
 "nbformat": 4,
 "nbformat_minor": 4
}
